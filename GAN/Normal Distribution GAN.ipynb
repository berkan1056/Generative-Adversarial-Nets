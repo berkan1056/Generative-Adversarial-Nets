{
 "cells": [
  {
   "cell_type": "markdown",
   "metadata": {},
   "source": [
    "## Generative Adversarial Networks\n",
    "\n",
    "Training GAN on data distribution is a gaussian distribution using MLP and momentum optimizer"
   ]
  },
  {
   "cell_type": "code",
   "execution_count": 3,
   "metadata": {
    "collapsed": true
   },
   "outputs": [],
   "source": [
    "%matplotlib inline\n",
    "import matplotlib.pyplot as plt\n",
    "import seaborn as sns\n",
    "import numpy as np\n",
    "import scipy as sp\n",
    "import tensorflow as tf\n",
    "from scipy.stats import norm"
   ]
  },
  {
   "cell_type": "code",
   "execution_count": 5,
   "metadata": {
    "collapsed": false
   },
   "outputs": [
    {
     "data": {
      "text/plain": [
       "[<matplotlib.lines.Line2D at 0x10ae47f90>]"
      ]
     },
     "execution_count": 5,
     "metadata": {},
     "output_type": "execute_result"
    },
    {
     "data": {
      "image/png": "[encoded data removed]",
      "text/plain": [
       "<matplotlib.figure.Figure at 0x10ad3a4d0>"
      ]
     },
     "metadata": {},
     "output_type": "display_data"
    }
   ],
   "source": [
    "mu, sigma = -2, 2\n",
    "xs = np.linspace(-10,10,4000)\n",
    "plt.plot(xs, norm.pdf(xs,loc = mu, scale = sigma))"
   ]
  },
  {
   "cell_type": "code",
   "execution_count": 6,
   "metadata": {
    "collapsed": true
   },
   "outputs": [],
   "source": [
    "maxIter  = 1000\n",
    "M = 200 # minibatch size"
   ]
  },
  {
   "cell_type": "code",
   "execution_count": 7,
   "metadata": {
    "collapsed": true
   },
   "outputs": [],
   "source": [
    "# Multi Layer Perceptron\n",
    "\n",
    "def mlp(input_data, output_dim):\n",
    "    \n",
    "    \"\"\"\n",
    "    Multi Layer Perceptron that will be used for Generative and Discriminative model\n",
    "    \n",
    "    Args:\n",
    "        input_data: Data or Activations coming into the network\n",
    "        output_dim: dimension of the data going out of the network\n",
    "    Output:\n",
    "        fc3: Fully connected output\n",
    "    \"\"\"\n",
    "    \n",
    "    w1 = tf.get_variable(\"w0\", [input_data.shape()[1], 6], initializer = tf.random_normal_initializer())\n",
    "    b1 = tf.get_variable(\"b0\", [6], initializer = tf.constant_initializer(0.0))\n",
    "    w2 = tf.get_variable(\"w1\", [6,5], initializer= tf.random_normal_initializer())\n",
    "    b2 = tf.get_variable(\"b1\", [5], initializer= tf.constant_initializer(0.0))\n",
    "    w3 = tf.get_variable(\"w2\", [5,output_dim], initializer= tf.random_normal_initializer())\n",
    "    b3 = tf.get_variable(\"b2\", [output_dim], initializer= tf.constant_initializer(0.0))\n",
    "    \n",
    "    fc1 = tf.nn.tanh(tf.matmul(input_data,w1) + b1)\n",
    "    fc2 = tf.nn.tanh(tf.matmul(fc2,w2) + b2)\n",
    "    fc3 = tf.nn.tanh(tf.matmul(fc3,w3) + b3)\n",
    "    \n",
    "    return fc3, [w1,b1,w2,b2,w3,b3]"
   ]
  },
  {
   "cell_type": "code",
   "execution_count": null,
   "metadata": {
    "collapsed": true
   },
   "outputs": [],
   "source": []
  }
 ],
 "metadata": {
  "kernelspec": {
   "display_name": "Python 2",
   "language": "python",
   "name": "python2"
  },
  "language_info": {
   "codemirror_mode": {
    "name": "ipython",
    "version": 2
   },
   "file_extension": ".py",
   "mimetype": "text/x-python",
   "name": "python",
   "nbconvert_exporter": "python",
   "pygments_lexer": "ipython2",
   "version": "2.7.11"
  }
 },
 "nbformat": 4,
 "nbformat_minor": 0
}
